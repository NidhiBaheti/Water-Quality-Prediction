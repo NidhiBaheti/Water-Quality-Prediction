{
 "cells": [
  {
   "cell_type": "code",
   "execution_count": 1,
   "metadata": {},
   "outputs": [
    {
     "name": "stderr",
     "output_type": "stream",
     "text": [
      "D:\\anaconda\\lib\\site-packages\\statsmodels\\tools\\_testing.py:19: FutureWarning: pandas.util.testing is deprecated. Use the functions in the public API at pandas.testing instead.\n",
      "  import pandas.util.testing as tm\n"
     ]
    }
   ],
   "source": [
    "import numpy as np\n",
    "import pandas as pd\n",
    "import seaborn as sns\n",
    "import matplotlib.pyplot as plt\n",
    "from sklearn.impute import SimpleImputer\n",
    "from sklearn.neighbors import LocalOutlierFactor\n",
    "from scipy.stats import probplot\n",
    "from scipy.stats import zscore"
   ]
  },
  {
   "cell_type": "code",
   "execution_count": 2,
   "metadata": {},
   "outputs": [],
   "source": [
    "df= pd.read_csv(\"waterQ2.csv\",encoding='unicode_escape')"
   ]
  },
  {
   "cell_type": "code",
   "execution_count": 4,
   "metadata": {},
   "outputs": [
    {
     "name": "stderr",
     "output_type": "stream",
     "text": [
      "C:\\Users\\Nidhi\\AppData\\Roaming\\Python\\Python37\\site-packages\\pandas\\core\\frame.py:3997: SettingWithCopyWarning: \n",
      "A value is trying to be set on a copy of a slice from a DataFrame\n",
      "\n",
      "See the caveats in the documentation: https://pandas.pydata.org/pandas-docs/stable/user_guide/indexing.html#returning-a-view-versus-a-copy\n",
      "  errors=errors,\n"
     ]
    }
   ],
   "source": [
    "# Calculating Water Quality Index of each sample\n",
    "df_num_final = df.select_dtypes(exclude=\"object\")\n",
    "# Dropping year and Temp attribute because they are not used for computing WQI\n",
    "df_num_final.drop([\"TEMP\"], axis=1, inplace=True)\n",
    "df_num_final.drop([\"STATION CODE\"], axis=1, inplace=True)\n",
    "# Weight Vector(wi)\n",
    "wi = np.array([0.2213, 0.2604, 0.0022, 0.4426, 0.0492, 0.0221, 0.0022])\n",
    "\n",
    "# Standard values of parameters(si)\n",
    "si = np.array([10, 8.5, 1000, 5, 45, 100, 1000])\n",
    "\n",
    "# Ideal values of paramters(vIdeal)\n",
    "vIdeal = np.array([14.6, 7, 0, 0, 0, 0, 0])\n",
    "\n",
    "def calc_wqi(sample):\n",
    "    wqi_sample = 0\n",
    "    num_col = 7\n",
    "    for index in range(num_col):\n",
    "        v_index = sample[index] # Obeserved value of sample at index\n",
    "        v_index_ideal = vIdeal[index] # Ideal value of obeserved value\n",
    "        w_index = wi[index] # weight of corresponding parameter of obeserved value\n",
    "        std_index = si[index] # Standard value recommended for obeserved value\n",
    "        q_index = (v_index - v_index_ideal) / (std_index - v_index_ideal)\n",
    "        q_index = q_index * 100 # Final qi value of obeserved value\n",
    "        wqi_sample += q_index*w_index\n",
    "    return wqi_sample"
   ]
  },
  {
   "cell_type": "code",
   "execution_count": 5,
   "metadata": {},
   "outputs": [],
   "source": [
    "# Computing WQI for the whole dataset\n",
    "def calc_wqi_for_df(df):\n",
    "    wqi_arr = []\n",
    "    for index in range(df.shape[0]):\n",
    "        index_row = df.iloc[index, :]\n",
    "        wqi_row = calc_wqi(index_row)\n",
    "        wqi_arr.append(wqi_row)\n",
    "    return wqi_arr"
   ]
  },
  {
   "cell_type": "code",
   "execution_count": 6,
   "metadata": {},
   "outputs": [],
   "source": [
    "wqi_arr = calc_wqi_for_df(df_num_final)\n",
    "# Converting oridnary array to numpy array\n",
    "wqi_arr = np.array(wqi_arr)\n",
    "wqi_arr = np.reshape(wqi_arr, (-1, 1))\n",
    "\n",
    "# Resetting index values of the dataframes\n",
    "wqi_arr_df = pd.DataFrame(wqi_arr, columns=[\"WQI\"]).reset_index()\n",
    "df = df.reset_index()"
   ]
  },
  {
   "cell_type": "code",
   "execution_count": 7,
   "metadata": {},
   "outputs": [
    {
     "data": {
      "text/plain": [
       "(488, 12)"
      ]
     },
     "execution_count": 7,
     "metadata": {},
     "output_type": "execute_result"
    }
   ],
   "source": [
    "df_wqi = pd.concat([df, pd.DataFrame(wqi_arr, columns=[\"WQI\"])], axis=1)\n",
    "df_wqi.drop(\"index\", axis=1, inplace=True)\n",
    "df_wqi.shape"
   ]
  },
  {
   "cell_type": "code",
   "execution_count": 8,
   "metadata": {},
   "outputs": [],
   "source": [
    "# Removing the samples with negative WQI\n",
    "df_neg_indices = df_wqi[(df_wqi[\"WQI\"] < 0)].index\n",
    "df_wqi.drop(df_neg_indices, axis=0, inplace=True)"
   ]
  },
  {
   "cell_type": "code",
   "execution_count": 9,
   "metadata": {},
   "outputs": [],
   "source": [
    "df_wqi[\"WQI clf\"] = df_wqi[\"WQI\"].apply(lambda x: (3 if (x <= 25)  \n",
    "                                        else(2 if (26<=x<=50) \n",
    "                                        else(1 if (51<=x<=75) \n",
    "                                        else 0))))"
   ]
  },
  {
   "cell_type": "code",
   "execution_count": 11,
   "metadata": {},
   "outputs": [],
   "source": [
    "df_wqi.to_csv('waterQ2(withWQI).csv', index=False)"
   ]
  },
  {
   "cell_type": "code",
   "execution_count": 12,
   "metadata": {},
   "outputs": [],
   "source": [
    "df2= pd.read_csv(\"waterQ2(withWQI).csv\",encoding='unicode_escape')"
   ]
  },
  {
   "cell_type": "code",
   "execution_count": null,
   "metadata": {},
   "outputs": [],
   "source": [
    "\n"
   ]
  },
  {
   "cell_type": "code",
   "execution_count": null,
   "metadata": {},
   "outputs": [],
   "source": []
  }
 ],
 "metadata": {
  "kernelspec": {
   "display_name": "Python 3",
   "language": "python",
   "name": "python3"
  },
  "language_info": {
   "codemirror_mode": {
    "name": "ipython",
    "version": 3
   },
   "file_extension": ".py",
   "mimetype": "text/x-python",
   "name": "python",
   "nbconvert_exporter": "python",
   "pygments_lexer": "ipython3",
   "version": "3.7.4"
  }
 },
 "nbformat": 4,
 "nbformat_minor": 2
}
