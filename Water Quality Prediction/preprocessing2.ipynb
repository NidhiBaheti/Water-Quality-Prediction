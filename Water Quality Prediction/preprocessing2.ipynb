{
 "cells": [
  {
   "cell_type": "code",
   "execution_count": 1,
   "metadata": {},
   "outputs": [
    {
     "name": "stderr",
     "output_type": "stream",
     "text": [
      "D:\\anaconda\\lib\\site-packages\\statsmodels\\tools\\_testing.py:19: FutureWarning: pandas.util.testing is deprecated. Use the functions in the public API at pandas.testing instead.\n",
      "  import pandas.util.testing as tm\n"
     ]
    }
   ],
   "source": [
    "import numpy as np\n",
    "import pandas as pd\n",
    "import seaborn as sns\n",
    "import matplotlib.pyplot as plt\n",
    "from sklearn.impute import SimpleImputer\n",
    "from sklearn.neighbors import LocalOutlierFactor\n",
    "from scipy.stats import probplot\n",
    "from scipy.stats import zscore"
   ]
  },
  {
   "cell_type": "code",
   "execution_count": 2,
   "metadata": {},
   "outputs": [],
   "source": [
    "df= pd.read_csv(\"waterquality.csv\",encoding='unicode_escape')"
   ]
  },
  {
   "cell_type": "code",
   "execution_count": 3,
   "metadata": {},
   "outputs": [
    {
     "data": {
      "text/plain": [
       "STATION CODE             int64\n",
       "LOCATIONS               object\n",
       "STATE                   object\n",
       "TEMP                   float64\n",
       "DO                     float64\n",
       "pH                     float64\n",
       "CONDUCTIVITY           float64\n",
       "BOD                    float64\n",
       "NITRATE_N_NITRITE_N    float64\n",
       "FECAL_COLIFORM         float64\n",
       "TOTAL_COLIFORM         float64\n",
       "dtype: object"
      ]
     },
     "execution_count": 3,
     "metadata": {},
     "output_type": "execute_result"
    }
   ],
   "source": [
    "df.dtypes"
   ]
  },
  {
   "cell_type": "code",
   "execution_count": 6,
   "metadata": {
    "scrolled": true
   },
   "outputs": [
    {
     "data": {
      "text/plain": [
       "STATION CODE           0\n",
       "LOCATIONS              0\n",
       "STATE                  0\n",
       "TEMP                   0\n",
       "DO                     0\n",
       "pH                     0\n",
       "CONDUCTIVITY           0\n",
       "BOD                    0\n",
       "NITRATE_N_NITRITE_N    0\n",
       "FECAL_COLIFORM         0\n",
       "TOTAL_COLIFORM         0\n",
       "dtype: int64"
      ]
     },
     "execution_count": 6,
     "metadata": {},
     "output_type": "execute_result"
    }
   ],
   "source": [
    "df.isnull().sum().sort_values()"
   ]
  },
  {
   "cell_type": "code",
   "execution_count": 5,
   "metadata": {},
   "outputs": [],
   "source": [
    "df['TEMP']= df.groupby(\"STATE\")['TEMP'].fillna(df['TEMP'].mean())\n",
    "df['DO']= df.groupby(\"STATE\")['DO'].fillna(df['DO'].mean())\n",
    "df['CONDUCTIVITY']= df.groupby(\"STATE\")['CONDUCTIVITY'].fillna(df['CONDUCTIVITY'].mean())\n",
    "df['BOD']= df.groupby(\"STATE\")['BOD'].fillna(df['BOD'].mean())\n",
    "df['NITRATE_N_NITRITE_N']= df.groupby(\"STATE\")['NITRATE_N_NITRITE_N'].fillna(df['NITRATE_N_NITRITE_N'].mean())\n",
    "df['FECAL_COLIFORM']= df.groupby(\"STATE\")['FECAL_COLIFORM'].fillna(df['FECAL_COLIFORM'].mean())\n",
    "df['TOTAL_COLIFORM']= df.groupby(\"STATE\")['TOTAL_COLIFORM'].fillna(df['TOTAL_COLIFORM'].mean())\n"
   ]
  },
  {
   "cell_type": "code",
   "execution_count": null,
   "metadata": {},
   "outputs": [],
   "source": []
  },
  {
   "cell_type": "code",
   "execution_count": 7,
   "metadata": {},
   "outputs": [],
   "source": [
    "df_num=df.select_dtypes(exclude=\"object\")\n",
    "df_cat=df.select_dtypes(include=\"object\")\n"
   ]
  },
  {
   "cell_type": "code",
   "execution_count": 10,
   "metadata": {},
   "outputs": [],
   "source": [
    "df_num_final_norm = zscore(df_num, axis=0)\n",
    "abs_z_scores = np.abs(df_num_final_norm)\n",
    "filtered_entries = (abs_z_scores < 3).all(axis=1)\n",
    "new_num_df = df_num[filtered_entries]"
   ]
  },
  {
   "cell_type": "code",
   "execution_count": 11,
   "metadata": {},
   "outputs": [
    {
     "data": {
      "text/plain": [
       "(488, 9)"
      ]
     },
     "execution_count": 11,
     "metadata": {},
     "output_type": "execute_result"
    }
   ],
   "source": [
    "new_num_df.shape"
   ]
  },
  {
   "cell_type": "code",
   "execution_count": 12,
   "metadata": {},
   "outputs": [],
   "source": [
    "df_final_final = pd.concat([df_cat, new_num_df], axis=1)"
   ]
  },
  {
   "cell_type": "code",
   "execution_count": 15,
   "metadata": {},
   "outputs": [],
   "source": [
    "df_final_final=df_final_final.dropna() "
   ]
  },
  {
   "cell_type": "code",
   "execution_count": 16,
   "metadata": {},
   "outputs": [
    {
     "data": {
      "text/plain": [
       "(488, 11)"
      ]
     },
     "execution_count": 16,
     "metadata": {},
     "output_type": "execute_result"
    }
   ],
   "source": [
    "df_final_final.shape"
   ]
  },
  {
   "cell_type": "code",
   "execution_count": 17,
   "metadata": {},
   "outputs": [],
   "source": [
    "df_final_final.to_csv('waterQ2.csv', index=False)"
   ]
  },
  {
   "cell_type": "code",
   "execution_count": 18,
   "metadata": {},
   "outputs": [],
   "source": [
    "df2= pd.read_csv(\"waterQ2.csv\",encoding='unicode_escape')"
   ]
  },
  {
   "cell_type": "code",
   "execution_count": 19,
   "metadata": {},
   "outputs": [
    {
     "data": {
      "text/html": [
       "<div>\n",
       "<style scoped>\n",
       "    .dataframe tbody tr th:only-of-type {\n",
       "        vertical-align: middle;\n",
       "    }\n",
       "\n",
       "    .dataframe tbody tr th {\n",
       "        vertical-align: top;\n",
       "    }\n",
       "\n",
       "    .dataframe thead th {\n",
       "        text-align: right;\n",
       "    }\n",
       "</style>\n",
       "<table border=\"1\" class=\"dataframe\">\n",
       "  <thead>\n",
       "    <tr style=\"text-align: right;\">\n",
       "      <th></th>\n",
       "      <th>LOCATIONS</th>\n",
       "      <th>STATE</th>\n",
       "      <th>STATION CODE</th>\n",
       "      <th>TEMP</th>\n",
       "      <th>DO</th>\n",
       "      <th>pH</th>\n",
       "      <th>CONDUCTIVITY</th>\n",
       "      <th>BOD</th>\n",
       "      <th>NITRATE_N_NITRITE_N</th>\n",
       "      <th>FECAL_COLIFORM</th>\n",
       "      <th>TOTAL_COLIFORM</th>\n",
       "    </tr>\n",
       "  </thead>\n",
       "  <tbody>\n",
       "    <tr>\n",
       "      <th>0</th>\n",
       "      <td>GODAVARI AT JAYAKWADI DAM, AURNAGABAD,MAHARASHTRA</td>\n",
       "      <td>MAHARASHTRA</td>\n",
       "      <td>1312.0</td>\n",
       "      <td>29.2</td>\n",
       "      <td>6.4</td>\n",
       "      <td>8.1</td>\n",
       "      <td>735.0</td>\n",
       "      <td>3.4</td>\n",
       "      <td>2.00</td>\n",
       "      <td>3.0</td>\n",
       "      <td>73.0</td>\n",
       "    </tr>\n",
       "    <tr>\n",
       "      <th>1</th>\n",
       "      <td>GODAVARI RIVER NEAR SOMESHWAR TEMPLE.</td>\n",
       "      <td>MAHARASHTRA</td>\n",
       "      <td>2177.0</td>\n",
       "      <td>24.5</td>\n",
       "      <td>6.0</td>\n",
       "      <td>8.0</td>\n",
       "      <td>270.0</td>\n",
       "      <td>3.1</td>\n",
       "      <td>2.00</td>\n",
       "      <td>72.0</td>\n",
       "      <td>182.0</td>\n",
       "    </tr>\n",
       "    <tr>\n",
       "      <th>2</th>\n",
       "      <td>GODAVARI RIVER AT SAIKHEDA.</td>\n",
       "      <td>MAHARASHTRA</td>\n",
       "      <td>2182.0</td>\n",
       "      <td>25.8</td>\n",
       "      <td>5.5</td>\n",
       "      <td>7.8</td>\n",
       "      <td>355.0</td>\n",
       "      <td>4.2</td>\n",
       "      <td>9.00</td>\n",
       "      <td>59.0</td>\n",
       "      <td>133.0</td>\n",
       "    </tr>\n",
       "    <tr>\n",
       "      <th>3</th>\n",
       "      <td>GODAVARI RIVER AT HANUMAN GHAT, NASHIK CITY.</td>\n",
       "      <td>MAHARASHTRA</td>\n",
       "      <td>2179.0</td>\n",
       "      <td>24.8</td>\n",
       "      <td>5.5</td>\n",
       "      <td>7.8</td>\n",
       "      <td>371.0</td>\n",
       "      <td>5.6</td>\n",
       "      <td>3.55</td>\n",
       "      <td>90.0</td>\n",
       "      <td>283.0</td>\n",
       "    </tr>\n",
       "    <tr>\n",
       "      <th>4</th>\n",
       "      <td>GODAVARI RIVER AT NANDUR- MADMESHWAR DAM.</td>\n",
       "      <td>MAHARASHTRA</td>\n",
       "      <td>2183.0</td>\n",
       "      <td>25.7</td>\n",
       "      <td>5.7</td>\n",
       "      <td>7.9</td>\n",
       "      <td>294.0</td>\n",
       "      <td>3.2</td>\n",
       "      <td>2.69</td>\n",
       "      <td>45.0</td>\n",
       "      <td>132.0</td>\n",
       "    </tr>\n",
       "  </tbody>\n",
       "</table>\n",
       "</div>"
      ],
      "text/plain": [
       "                                           LOCATIONS        STATE  \\\n",
       "0  GODAVARI AT JAYAKWADI DAM, AURNAGABAD,MAHARASHTRA  MAHARASHTRA   \n",
       "1              GODAVARI RIVER NEAR SOMESHWAR TEMPLE.  MAHARASHTRA   \n",
       "2                        GODAVARI RIVER AT SAIKHEDA.  MAHARASHTRA   \n",
       "3       GODAVARI RIVER AT HANUMAN GHAT, NASHIK CITY.  MAHARASHTRA   \n",
       "4          GODAVARI RIVER AT NANDUR- MADMESHWAR DAM.  MAHARASHTRA   \n",
       "\n",
       "   STATION CODE  TEMP   DO   pH  CONDUCTIVITY  BOD  NITRATE_N_NITRITE_N  \\\n",
       "0        1312.0  29.2  6.4  8.1         735.0  3.4                 2.00   \n",
       "1        2177.0  24.5  6.0  8.0         270.0  3.1                 2.00   \n",
       "2        2182.0  25.8  5.5  7.8         355.0  4.2                 9.00   \n",
       "3        2179.0  24.8  5.5  7.8         371.0  5.6                 3.55   \n",
       "4        2183.0  25.7  5.7  7.9         294.0  3.2                 2.69   \n",
       "\n",
       "   FECAL_COLIFORM  TOTAL_COLIFORM  \n",
       "0             3.0            73.0  \n",
       "1            72.0           182.0  \n",
       "2            59.0           133.0  \n",
       "3            90.0           283.0  \n",
       "4            45.0           132.0  "
      ]
     },
     "execution_count": 19,
     "metadata": {},
     "output_type": "execute_result"
    }
   ],
   "source": [
    "df2.head()"
   ]
  },
  {
   "cell_type": "code",
   "execution_count": null,
   "metadata": {},
   "outputs": [],
   "source": []
  }
 ],
 "metadata": {
  "kernelspec": {
   "display_name": "Python 3",
   "language": "python",
   "name": "python3"
  },
  "language_info": {
   "codemirror_mode": {
    "name": "ipython",
    "version": 3
   },
   "file_extension": ".py",
   "mimetype": "text/x-python",
   "name": "python",
   "nbconvert_exporter": "python",
   "pygments_lexer": "ipython3",
   "version": "3.7.4"
  }
 },
 "nbformat": 4,
 "nbformat_minor": 2
}
