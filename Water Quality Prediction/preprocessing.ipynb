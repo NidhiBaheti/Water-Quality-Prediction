{
 "cells": [
  {
   "cell_type": "code",
   "execution_count": 2,
   "metadata": {},
   "outputs": [],
   "source": [
    "#importing libraries\n",
    "import numpy as np\n",
    "import pandas as pd\n",
    "import seaborn as sns\n",
    "import matplotlib.pyplot as plt\n",
    "from sklearn.impute import SimpleImputer\n",
    "from sklearn.neighbors import LocalOutlierFactor\n",
    "from scipy.stats import probplot\n",
    "from scipy.stats import zscore"
   ]
  },
  {
   "cell_type": "code",
   "execution_count": 3,
   "metadata": {},
   "outputs": [],
   "source": [
    "df= pd.read_csv(\"water_dataX.csv\",encoding='unicode_escape')"
   ]
  },
  {
   "cell_type": "code",
   "execution_count": 4,
   "metadata": {},
   "outputs": [
    {
     "data": {
      "text/plain": [
       "STATION CODE                        object\n",
       "LOCATIONS                           object\n",
       "STATE                               object\n",
       "Temp                                object\n",
       "D.O. (mg/l)                         object\n",
       "PH                                  object\n",
       "CONDUCTIVITY (µmhos/cm)             object\n",
       "B.O.D. (mg/l)                       object\n",
       "NITRATENAN N+ NITRITENANN (mg/l)    object\n",
       "FECAL COLIFORM (MPN/100ml)          object\n",
       "TOTAL COLIFORM (MPN/100ml)Mean      object\n",
       "year                                 int64\n",
       "dtype: object"
      ]
     },
     "execution_count": 4,
     "metadata": {},
     "output_type": "execute_result"
    }
   ],
   "source": [
    "df.dtypes"
   ]
  },
  {
   "cell_type": "code",
   "execution_count": 5,
   "metadata": {},
   "outputs": [
    {
     "data": {
      "text/plain": [
       "STATION CODE                         object\n",
       "LOCATIONS                            object\n",
       "STATE                                object\n",
       "Temp                                float64\n",
       "D.O. (mg/l)                         float64\n",
       "PH                                  float64\n",
       "CONDUCTIVITY (µmhos/cm)             float64\n",
       "B.O.D. (mg/l)                       float64\n",
       "NITRATENAN N+ NITRITENANN (mg/l)    float64\n",
       "FECAL COLIFORM (MPN/100ml)          float64\n",
       "TOTAL COLIFORM (MPN/100ml)Mean      float64\n",
       "year                                  int64\n",
       "dtype: object"
      ]
     },
     "execution_count": 5,
     "metadata": {},
     "output_type": "execute_result"
    }
   ],
   "source": [
    "# Converting object data type to numeric\n",
    "def convert_to_numeric(df):\n",
    "    num_col = df.shape[1]\n",
    "    # Start from index 3\n",
    "    for index in range(3, num_col):\n",
    "        col_name = df.iloc[:, index].name\n",
    "        df[col_name] = pd.to_numeric(df[col_name], errors=\"coerce\")\n",
    "    return df\n",
    "\n",
    "df = convert_to_numeric(df)\n",
    "df.dtypes"
   ]
  },
  {
   "cell_type": "code",
   "execution_count": 6,
   "metadata": {},
   "outputs": [],
   "source": [
    "# Replacing string NAN values with actual NAN value (np.nan)\n",
    "def convert_to_nan(df):\n",
    "    n_col = df.shape[1]\n",
    "    for index in range(n_col):\n",
    "        df.iloc[:, index]  = df.iloc[:, index].replace(\"NAN\", np.nan)\n",
    "    return df\n",
    "\n",
    "df = convert_to_nan(df)"
   ]
  },
  {
   "cell_type": "code",
   "execution_count": 7,
   "metadata": {},
   "outputs": [
    {
     "data": {
      "text/plain": [
       "year                                  0\n",
       "PH                                    8\n",
       "CONDUCTIVITY (µmhos/cm)              25\n",
       "D.O. (mg/l)                          31\n",
       "B.O.D. (mg/l)                        43\n",
       "Temp                                 92\n",
       "STATION CODE                        122\n",
       "TOTAL COLIFORM (MPN/100ml)Mean      132\n",
       "LOCATIONS                           184\n",
       "NITRATENAN N+ NITRITENANN (mg/l)    225\n",
       "FECAL COLIFORM (MPN/100ml)          316\n",
       "STATE                               761\n",
       "dtype: int64"
      ]
     },
     "execution_count": 7,
     "metadata": {},
     "output_type": "execute_result"
    }
   ],
   "source": [
    "df.isnull().sum().sort_values()"
   ]
  },
  {
   "cell_type": "code",
   "execution_count": 8,
   "metadata": {},
   "outputs": [],
   "source": [
    "df_num = df.select_dtypes(exclude=\"object\")"
   ]
  },
  {
   "cell_type": "code",
   "execution_count": 9,
   "metadata": {},
   "outputs": [
    {
     "data": {
      "text/plain": [
       "STATION CODE    122\n",
       "LOCATIONS       184\n",
       "STATE           761\n",
       "dtype: int64"
      ]
     },
     "execution_count": 9,
     "metadata": {},
     "output_type": "execute_result"
    }
   ],
   "source": [
    "df_cat = df.select_dtypes(include=\"object\")\n",
    "df_cat.isnull().sum()"
   ]
  },
  {
   "cell_type": "code",
   "execution_count": 10,
   "metadata": {},
   "outputs": [],
   "source": [
    "df_num_col = df_num.columns\n",
    "imputer = SimpleImputer(strategy=\"median\")\n",
    "new_num_df = imputer.fit_transform(df_num)\n",
    "new_num_df = pd.DataFrame(new_num_df, columns=df_num_col)"
   ]
  },
  {
   "cell_type": "code",
   "execution_count": 11,
   "metadata": {
    "scrolled": true
   },
   "outputs": [
    {
     "data": {
      "text/plain": [
       "Temp                                0\n",
       "D.O. (mg/l)                         0\n",
       "PH                                  0\n",
       "CONDUCTIVITY (µmhos/cm)             0\n",
       "B.O.D. (mg/l)                       0\n",
       "NITRATENAN N+ NITRITENANN (mg/l)    0\n",
       "FECAL COLIFORM (MPN/100ml)          0\n",
       "TOTAL COLIFORM (MPN/100ml)Mean      0\n",
       "year                                0\n",
       "dtype: int64"
      ]
     },
     "execution_count": 11,
     "metadata": {},
     "output_type": "execute_result"
    }
   ],
   "source": [
    "new_num_df.isnull().sum()"
   ]
  },
  {
   "cell_type": "code",
   "execution_count": 12,
   "metadata": {},
   "outputs": [
    {
     "data": {
      "text/html": [
       "<div>\n",
       "<style scoped>\n",
       "    .dataframe tbody tr th:only-of-type {\n",
       "        vertical-align: middle;\n",
       "    }\n",
       "\n",
       "    .dataframe tbody tr th {\n",
       "        vertical-align: top;\n",
       "    }\n",
       "\n",
       "    .dataframe thead th {\n",
       "        text-align: right;\n",
       "    }\n",
       "</style>\n",
       "<table border=\"1\" class=\"dataframe\">\n",
       "  <thead>\n",
       "    <tr style=\"text-align: right;\">\n",
       "      <th></th>\n",
       "      <th>STATION CODE</th>\n",
       "      <th>LOCATIONS</th>\n",
       "      <th>STATE</th>\n",
       "    </tr>\n",
       "  </thead>\n",
       "  <tbody>\n",
       "    <tr>\n",
       "      <th>166</th>\n",
       "      <td>1330</td>\n",
       "      <td>TAMBIRAPARANI AT ARUMUGANERI, TAMILNADU</td>\n",
       "      <td>TAMILNADU</td>\n",
       "    </tr>\n",
       "    <tr>\n",
       "      <th>424</th>\n",
       "      <td>1330</td>\n",
       "      <td>TAMBIRAPARANI AT ARUMUGANERI, TAMILNADU</td>\n",
       "      <td>TAMILNADU</td>\n",
       "    </tr>\n",
       "    <tr>\n",
       "      <th>677</th>\n",
       "      <td>1330</td>\n",
       "      <td>TAMBIRAPARANI AT ARUMUGANERI</td>\n",
       "      <td>TAMILNADU</td>\n",
       "    </tr>\n",
       "    <tr>\n",
       "      <th>1168</th>\n",
       "      <td>1330</td>\n",
       "      <td>TAMBIRAPARANI AT ARUMUGANERI</td>\n",
       "      <td>TAMILNADU</td>\n",
       "    </tr>\n",
       "    <tr>\n",
       "      <th>1351</th>\n",
       "      <td>1330</td>\n",
       "      <td>NaN</td>\n",
       "      <td>TAMBIRAPARANI AT ARUMUGANERI, TAMILNADU</td>\n",
       "    </tr>\n",
       "    <tr>\n",
       "      <th>1513</th>\n",
       "      <td>1330</td>\n",
       "      <td>TAMBIRAPARANI AT ARUMUGANERI, TAMILNADU</td>\n",
       "      <td>TAMILNADU</td>\n",
       "    </tr>\n",
       "    <tr>\n",
       "      <th>1626</th>\n",
       "      <td>1330</td>\n",
       "      <td>TAMBIRAPARANI AT ARUMUGANERI, TAMILNADU</td>\n",
       "      <td>TAMILNADU</td>\n",
       "    </tr>\n",
       "    <tr>\n",
       "      <th>1745</th>\n",
       "      <td>1330</td>\n",
       "      <td>TAMBIRAPARANI AT ARUMUGANERI, TAMILNADU</td>\n",
       "      <td>TAMILNADU</td>\n",
       "    </tr>\n",
       "    <tr>\n",
       "      <th>1986</th>\n",
       "      <td>1330</td>\n",
       "      <td>TAMBIRAPARANI AT ARUMUGANERI, TAMILNADU</td>\n",
       "      <td>TAMILNADU</td>\n",
       "    </tr>\n",
       "  </tbody>\n",
       "</table>\n",
       "</div>"
      ],
      "text/plain": [
       "     STATION CODE                                LOCATIONS  \\\n",
       "166          1330  TAMBIRAPARANI AT ARUMUGANERI, TAMILNADU   \n",
       "424          1330  TAMBIRAPARANI AT ARUMUGANERI, TAMILNADU   \n",
       "677          1330             TAMBIRAPARANI AT ARUMUGANERI   \n",
       "1168         1330             TAMBIRAPARANI AT ARUMUGANERI   \n",
       "1351         1330                                      NaN   \n",
       "1513         1330  TAMBIRAPARANI AT ARUMUGANERI, TAMILNADU   \n",
       "1626         1330  TAMBIRAPARANI AT ARUMUGANERI, TAMILNADU   \n",
       "1745         1330  TAMBIRAPARANI AT ARUMUGANERI, TAMILNADU   \n",
       "1986         1330  TAMBIRAPARANI AT ARUMUGANERI, TAMILNADU   \n",
       "\n",
       "                                        STATE  \n",
       "166                                 TAMILNADU  \n",
       "424                                 TAMILNADU  \n",
       "677                                 TAMILNADU  \n",
       "1168                                TAMILNADU  \n",
       "1351  TAMBIRAPARANI AT ARUMUGANERI, TAMILNADU  \n",
       "1513                                TAMILNADU  \n",
       "1626                                TAMILNADU  \n",
       "1745                                TAMILNADU  \n",
       "1986                                TAMILNADU  "
      ]
     },
     "execution_count": 12,
     "metadata": {},
     "output_type": "execute_result"
    }
   ],
   "source": [
    "df_cat_copy = df_cat.copy()\n",
    "\n",
    "df_cat_copy[df_cat_copy[\"STATION CODE\"] == \"1330\"]\n",
    "# Station Code with value 1330 will have Location - TAMBIRAPARANI which belongs in STATE - TAMIL NADU\n",
    "# I can replace all the NAN occurences in STATE with TAMILNADU\n",
    "df_cat_copy[\"STATE\"][df_cat_copy[\"STATION CODE\"] == \"1330\"] = df_cat_copy[\"STATE\"][df_cat_copy[\"STATION CODE\"] == \"1330\"].fillna(\"TAMILNADU\")\n",
    "\n",
    "df_cat_copy[df_cat_copy[\"STATION CODE\"] == \"1330\"]"
   ]
  },
  {
   "cell_type": "code",
   "execution_count": 13,
   "metadata": {},
   "outputs": [
    {
     "name": "stderr",
     "output_type": "stream",
     "text": [
      "D:\\anaconda\\lib\\site-packages\\ipykernel_launcher.py:11: SettingWithCopyWarning: \n",
      "A value is trying to be set on a copy of a slice from a DataFrame\n",
      "\n",
      "See the caveats in the documentation: https://pandas.pydata.org/pandas-docs/stable/user_guide/indexing.html#returning-a-view-versus-a-copy\n",
      "  # This is added back by InteractiveShellApp.init_path()\n"
     ]
    },
    {
     "data": {
      "text/html": [
       "<div>\n",
       "<style scoped>\n",
       "    .dataframe tbody tr th:only-of-type {\n",
       "        vertical-align: middle;\n",
       "    }\n",
       "\n",
       "    .dataframe tbody tr th {\n",
       "        vertical-align: top;\n",
       "    }\n",
       "\n",
       "    .dataframe thead th {\n",
       "        text-align: right;\n",
       "    }\n",
       "</style>\n",
       "<table border=\"1\" class=\"dataframe\">\n",
       "  <thead>\n",
       "    <tr style=\"text-align: right;\">\n",
       "      <th></th>\n",
       "      <th>STATION CODE</th>\n",
       "      <th>LOCATIONS</th>\n",
       "      <th>STATE</th>\n",
       "    </tr>\n",
       "  </thead>\n",
       "  <tbody>\n",
       "    <tr>\n",
       "      <th>166</th>\n",
       "      <td>1330</td>\n",
       "      <td>TAMBIRAPARANI AT ARUMUGANERI, TAMILNADU</td>\n",
       "      <td>TAMILNADU</td>\n",
       "    </tr>\n",
       "    <tr>\n",
       "      <th>424</th>\n",
       "      <td>1330</td>\n",
       "      <td>TAMBIRAPARANI AT ARUMUGANERI, TAMILNADU</td>\n",
       "      <td>TAMILNADU</td>\n",
       "    </tr>\n",
       "    <tr>\n",
       "      <th>677</th>\n",
       "      <td>1330</td>\n",
       "      <td>TAMBIRAPARANI AT ARUMUGANERI</td>\n",
       "      <td>TAMILNADU</td>\n",
       "    </tr>\n",
       "    <tr>\n",
       "      <th>1168</th>\n",
       "      <td>1330</td>\n",
       "      <td>TAMBIRAPARANI AT ARUMUGANERI</td>\n",
       "      <td>TAMILNADU</td>\n",
       "    </tr>\n",
       "    <tr>\n",
       "      <th>1351</th>\n",
       "      <td>1330</td>\n",
       "      <td>TAMBIRAPARANI AT ARUMUGANERI, TAMILNADU</td>\n",
       "      <td>NaN</td>\n",
       "    </tr>\n",
       "    <tr>\n",
       "      <th>1513</th>\n",
       "      <td>1330</td>\n",
       "      <td>TAMBIRAPARANI AT ARUMUGANERI, TAMILNADU</td>\n",
       "      <td>TAMILNADU</td>\n",
       "    </tr>\n",
       "    <tr>\n",
       "      <th>1626</th>\n",
       "      <td>1330</td>\n",
       "      <td>TAMBIRAPARANI AT ARUMUGANERI, TAMILNADU</td>\n",
       "      <td>TAMILNADU</td>\n",
       "    </tr>\n",
       "    <tr>\n",
       "      <th>1745</th>\n",
       "      <td>1330</td>\n",
       "      <td>TAMBIRAPARANI AT ARUMUGANERI, TAMILNADU</td>\n",
       "      <td>TAMILNADU</td>\n",
       "    </tr>\n",
       "    <tr>\n",
       "      <th>1986</th>\n",
       "      <td>1330</td>\n",
       "      <td>TAMBIRAPARANI AT ARUMUGANERI, TAMILNADU</td>\n",
       "      <td>TAMILNADU</td>\n",
       "    </tr>\n",
       "  </tbody>\n",
       "</table>\n",
       "</div>"
      ],
      "text/plain": [
       "     STATION CODE                                LOCATIONS      STATE\n",
       "166          1330  TAMBIRAPARANI AT ARUMUGANERI, TAMILNADU  TAMILNADU\n",
       "424          1330  TAMBIRAPARANI AT ARUMUGANERI, TAMILNADU  TAMILNADU\n",
       "677          1330             TAMBIRAPARANI AT ARUMUGANERI  TAMILNADU\n",
       "1168         1330             TAMBIRAPARANI AT ARUMUGANERI  TAMILNADU\n",
       "1351         1330  TAMBIRAPARANI AT ARUMUGANERI, TAMILNADU        NaN\n",
       "1513         1330  TAMBIRAPARANI AT ARUMUGANERI, TAMILNADU  TAMILNADU\n",
       "1626         1330  TAMBIRAPARANI AT ARUMUGANERI, TAMILNADU  TAMILNADU\n",
       "1745         1330  TAMBIRAPARANI AT ARUMUGANERI, TAMILNADU  TAMILNADU\n",
       "1986         1330  TAMBIRAPARANI AT ARUMUGANERI, TAMILNADU  TAMILNADU"
      ]
     },
     "execution_count": 13,
     "metadata": {},
     "output_type": "execute_result"
    }
   ],
   "source": [
    "def fill_locations(df_cat):\n",
    "    location_null = df_cat[df_cat[\"LOCATIONS\"].isnull()]\n",
    "    location_null_indices = location_null.index\n",
    "    for index in location_null_indices:\n",
    "        state_value = location_null[\"STATE\"][index]\n",
    "        location_null[\"LOCATIONS\"][index] = state_value\n",
    "        location_null[\"STATE\"][index] = np.nan\n",
    "    df_cat[df_cat[\"LOCATIONS\"].isnull()] = location_null\n",
    "    return\n",
    "\n",
    "fill_locations(df_cat_copy)\n",
    "df_cat_copy[df_cat_copy[\"STATION CODE\"] == \"1330\"]"
   ]
  },
  {
   "cell_type": "code",
   "execution_count": 14,
   "metadata": {},
   "outputs": [
    {
     "data": {
      "text/html": [
       "<div>\n",
       "<style scoped>\n",
       "    .dataframe tbody tr th:only-of-type {\n",
       "        vertical-align: middle;\n",
       "    }\n",
       "\n",
       "    .dataframe tbody tr th {\n",
       "        vertical-align: top;\n",
       "    }\n",
       "\n",
       "    .dataframe thead th {\n",
       "        text-align: right;\n",
       "    }\n",
       "</style>\n",
       "<table border=\"1\" class=\"dataframe\">\n",
       "  <thead>\n",
       "    <tr style=\"text-align: right;\">\n",
       "      <th></th>\n",
       "      <th>STATION CODE</th>\n",
       "      <th>LOCATIONS</th>\n",
       "      <th>STATE</th>\n",
       "    </tr>\n",
       "  </thead>\n",
       "  <tbody>\n",
       "    <tr>\n",
       "      <th>166</th>\n",
       "      <td>1330</td>\n",
       "      <td>TAMBIRAPARANI AT ARUMUGANERI, TAMILNADU</td>\n",
       "      <td>TAMILNADU</td>\n",
       "    </tr>\n",
       "    <tr>\n",
       "      <th>424</th>\n",
       "      <td>1330</td>\n",
       "      <td>TAMBIRAPARANI AT ARUMUGANERI, TAMILNADU</td>\n",
       "      <td>TAMILNADU</td>\n",
       "    </tr>\n",
       "    <tr>\n",
       "      <th>1351</th>\n",
       "      <td>1330</td>\n",
       "      <td>TAMBIRAPARANI AT ARUMUGANERI, TAMILNADU</td>\n",
       "      <td>NaN</td>\n",
       "    </tr>\n",
       "    <tr>\n",
       "      <th>1513</th>\n",
       "      <td>1330</td>\n",
       "      <td>TAMBIRAPARANI AT ARUMUGANERI, TAMILNADU</td>\n",
       "      <td>TAMILNADU</td>\n",
       "    </tr>\n",
       "    <tr>\n",
       "      <th>1626</th>\n",
       "      <td>1330</td>\n",
       "      <td>TAMBIRAPARANI AT ARUMUGANERI, TAMILNADU</td>\n",
       "      <td>TAMILNADU</td>\n",
       "    </tr>\n",
       "    <tr>\n",
       "      <th>1745</th>\n",
       "      <td>1330</td>\n",
       "      <td>TAMBIRAPARANI AT ARUMUGANERI, TAMILNADU</td>\n",
       "      <td>TAMILNADU</td>\n",
       "    </tr>\n",
       "    <tr>\n",
       "      <th>1896</th>\n",
       "      <td>NaN</td>\n",
       "      <td>TAMBIRAPARANI AT ARUMUGANERI, TAMILNADU</td>\n",
       "      <td>NaN</td>\n",
       "    </tr>\n",
       "    <tr>\n",
       "      <th>1986</th>\n",
       "      <td>1330</td>\n",
       "      <td>TAMBIRAPARANI AT ARUMUGANERI, TAMILNADU</td>\n",
       "      <td>TAMILNADU</td>\n",
       "    </tr>\n",
       "  </tbody>\n",
       "</table>\n",
       "</div>"
      ],
      "text/plain": [
       "     STATION CODE                                LOCATIONS      STATE\n",
       "166          1330  TAMBIRAPARANI AT ARUMUGANERI, TAMILNADU  TAMILNADU\n",
       "424          1330  TAMBIRAPARANI AT ARUMUGANERI, TAMILNADU  TAMILNADU\n",
       "1351         1330  TAMBIRAPARANI AT ARUMUGANERI, TAMILNADU        NaN\n",
       "1513         1330  TAMBIRAPARANI AT ARUMUGANERI, TAMILNADU  TAMILNADU\n",
       "1626         1330  TAMBIRAPARANI AT ARUMUGANERI, TAMILNADU  TAMILNADU\n",
       "1745         1330  TAMBIRAPARANI AT ARUMUGANERI, TAMILNADU  TAMILNADU\n",
       "1896          NaN  TAMBIRAPARANI AT ARUMUGANERI, TAMILNADU        NaN\n",
       "1986         1330  TAMBIRAPARANI AT ARUMUGANERI, TAMILNADU  TAMILNADU"
      ]
     },
     "execution_count": 14,
     "metadata": {},
     "output_type": "execute_result"
    }
   ],
   "source": [
    "df_cat_copy[df_cat_copy[\"LOCATIONS\"] == \"TAMBIRAPARANI AT ARUMUGANERI, TAMILNADU\"]"
   ]
  },
  {
   "cell_type": "code",
   "execution_count": 15,
   "metadata": {
    "scrolled": true
   },
   "outputs": [
    {
     "name": "stderr",
     "output_type": "stream",
     "text": [
      "D:\\anaconda\\lib\\site-packages\\ipykernel_launcher.py:19: SettingWithCopyWarning: \n",
      "A value is trying to be set on a copy of a slice from a DataFrame\n",
      "\n",
      "See the caveats in the documentation: https://pandas.pydata.org/pandas-docs/stable/user_guide/indexing.html#returning-a-view-versus-a-copy\n"
     ]
    },
    {
     "data": {
      "text/html": [
       "<div>\n",
       "<style scoped>\n",
       "    .dataframe tbody tr th:only-of-type {\n",
       "        vertical-align: middle;\n",
       "    }\n",
       "\n",
       "    .dataframe tbody tr th {\n",
       "        vertical-align: top;\n",
       "    }\n",
       "\n",
       "    .dataframe thead th {\n",
       "        text-align: right;\n",
       "    }\n",
       "</style>\n",
       "<table border=\"1\" class=\"dataframe\">\n",
       "  <thead>\n",
       "    <tr style=\"text-align: right;\">\n",
       "      <th></th>\n",
       "      <th>STATION CODE</th>\n",
       "      <th>LOCATIONS</th>\n",
       "      <th>STATE</th>\n",
       "    </tr>\n",
       "  </thead>\n",
       "  <tbody>\n",
       "    <tr>\n",
       "      <th>166</th>\n",
       "      <td>1330</td>\n",
       "      <td>TAMBIRAPARANI AT ARUMUGANERI, TAMILNADU</td>\n",
       "      <td>TAMILNADU</td>\n",
       "    </tr>\n",
       "    <tr>\n",
       "      <th>424</th>\n",
       "      <td>1330</td>\n",
       "      <td>TAMBIRAPARANI AT ARUMUGANERI, TAMILNADU</td>\n",
       "      <td>TAMILNADU</td>\n",
       "    </tr>\n",
       "    <tr>\n",
       "      <th>1351</th>\n",
       "      <td>1330</td>\n",
       "      <td>TAMBIRAPARANI AT ARUMUGANERI, TAMILNADU</td>\n",
       "      <td>NaN</td>\n",
       "    </tr>\n",
       "    <tr>\n",
       "      <th>1513</th>\n",
       "      <td>1330</td>\n",
       "      <td>TAMBIRAPARANI AT ARUMUGANERI, TAMILNADU</td>\n",
       "      <td>TAMILNADU</td>\n",
       "    </tr>\n",
       "    <tr>\n",
       "      <th>1626</th>\n",
       "      <td>1330</td>\n",
       "      <td>TAMBIRAPARANI AT ARUMUGANERI, TAMILNADU</td>\n",
       "      <td>TAMILNADU</td>\n",
       "    </tr>\n",
       "    <tr>\n",
       "      <th>1745</th>\n",
       "      <td>1330</td>\n",
       "      <td>TAMBIRAPARANI AT ARUMUGANERI, TAMILNADU</td>\n",
       "      <td>TAMILNADU</td>\n",
       "    </tr>\n",
       "    <tr>\n",
       "      <th>1896</th>\n",
       "      <td>1330</td>\n",
       "      <td>TAMBIRAPARANI AT ARUMUGANERI, TAMILNADU</td>\n",
       "      <td>NaN</td>\n",
       "    </tr>\n",
       "    <tr>\n",
       "      <th>1986</th>\n",
       "      <td>1330</td>\n",
       "      <td>TAMBIRAPARANI AT ARUMUGANERI, TAMILNADU</td>\n",
       "      <td>TAMILNADU</td>\n",
       "    </tr>\n",
       "  </tbody>\n",
       "</table>\n",
       "</div>"
      ],
      "text/plain": [
       "     STATION CODE                                LOCATIONS      STATE\n",
       "166          1330  TAMBIRAPARANI AT ARUMUGANERI, TAMILNADU  TAMILNADU\n",
       "424          1330  TAMBIRAPARANI AT ARUMUGANERI, TAMILNADU  TAMILNADU\n",
       "1351         1330  TAMBIRAPARANI AT ARUMUGANERI, TAMILNADU        NaN\n",
       "1513         1330  TAMBIRAPARANI AT ARUMUGANERI, TAMILNADU  TAMILNADU\n",
       "1626         1330  TAMBIRAPARANI AT ARUMUGANERI, TAMILNADU  TAMILNADU\n",
       "1745         1330  TAMBIRAPARANI AT ARUMUGANERI, TAMILNADU  TAMILNADU\n",
       "1896         1330  TAMBIRAPARANI AT ARUMUGANERI, TAMILNADU        NaN\n",
       "1986         1330  TAMBIRAPARANI AT ARUMUGANERI, TAMILNADU  TAMILNADU"
      ]
     },
     "execution_count": 15,
     "metadata": {},
     "output_type": "execute_result"
    }
   ],
   "source": [
    "# Now I can fill NULL values of Station code with corresponding LOCATION value(ex - above dataframe)\n",
    "# I will match the corresponding LOCATION value with other same LOCATION value and insert the value of station code\n",
    "\n",
    "def fill_code(df_cat):\n",
    "    station_null = df_cat[df_cat[\"STATION CODE\"].isnull()]\n",
    "    station_null_indices = station_null.index\n",
    "    for index in station_null_indices:\n",
    "        stat_code = np.nan\n",
    "        location_index = station_null[\"LOCATIONS\"][index]\n",
    "        code_at_location = df_cat[\"STATION CODE\"][df_cat[\"LOCATIONS\"] == location_index]\n",
    "        for index_code in code_at_location.index:\n",
    "            if (code_at_location[index_code] != np.nan):\n",
    "                stat_code = code_at_location[index_code]\n",
    "                break\n",
    "        station_null[\"STATION CODE\"][index] = stat_code\n",
    "    df_cat[df_cat[\"STATION CODE\"].isnull()] = station_null\n",
    "    return\n",
    "\n",
    "fill_code(df_cat_copy)\n",
    "df_cat_copy[df_cat_copy[\"LOCATIONS\"] == \"TAMBIRAPARANI AT ARUMUGANERI, TAMILNADU\"]"
   ]
  },
  {
   "cell_type": "code",
   "execution_count": 16,
   "metadata": {
    "scrolled": true
   },
   "outputs": [
    {
     "data": {
      "text/html": [
       "<div>\n",
       "<style scoped>\n",
       "    .dataframe tbody tr th:only-of-type {\n",
       "        vertical-align: middle;\n",
       "    }\n",
       "\n",
       "    .dataframe tbody tr th {\n",
       "        vertical-align: top;\n",
       "    }\n",
       "\n",
       "    .dataframe thead th {\n",
       "        text-align: right;\n",
       "    }\n",
       "</style>\n",
       "<table border=\"1\" class=\"dataframe\">\n",
       "  <thead>\n",
       "    <tr style=\"text-align: right;\">\n",
       "      <th></th>\n",
       "      <th>STATION CODE</th>\n",
       "      <th>LOCATIONS</th>\n",
       "      <th>STATE</th>\n",
       "    </tr>\n",
       "  </thead>\n",
       "  <tbody>\n",
       "    <tr>\n",
       "      <th>166</th>\n",
       "      <td>1330</td>\n",
       "      <td>TAMBIRAPARANI AT ARUMUGANERI, TAMILNADU</td>\n",
       "      <td>TAMILNADU</td>\n",
       "    </tr>\n",
       "    <tr>\n",
       "      <th>424</th>\n",
       "      <td>1330</td>\n",
       "      <td>TAMBIRAPARANI AT ARUMUGANERI, TAMILNADU</td>\n",
       "      <td>TAMILNADU</td>\n",
       "    </tr>\n",
       "    <tr>\n",
       "      <th>677</th>\n",
       "      <td>1330</td>\n",
       "      <td>TAMBIRAPARANI AT ARUMUGANERI</td>\n",
       "      <td>TAMILNADU</td>\n",
       "    </tr>\n",
       "    <tr>\n",
       "      <th>1168</th>\n",
       "      <td>1330</td>\n",
       "      <td>TAMBIRAPARANI AT ARUMUGANERI</td>\n",
       "      <td>TAMILNADU</td>\n",
       "    </tr>\n",
       "    <tr>\n",
       "      <th>1351</th>\n",
       "      <td>1330</td>\n",
       "      <td>TAMBIRAPARANI AT ARUMUGANERI, TAMILNADU</td>\n",
       "      <td>TAMILNADU</td>\n",
       "    </tr>\n",
       "    <tr>\n",
       "      <th>1513</th>\n",
       "      <td>1330</td>\n",
       "      <td>TAMBIRAPARANI AT ARUMUGANERI, TAMILNADU</td>\n",
       "      <td>TAMILNADU</td>\n",
       "    </tr>\n",
       "    <tr>\n",
       "      <th>1626</th>\n",
       "      <td>1330</td>\n",
       "      <td>TAMBIRAPARANI AT ARUMUGANERI, TAMILNADU</td>\n",
       "      <td>TAMILNADU</td>\n",
       "    </tr>\n",
       "    <tr>\n",
       "      <th>1745</th>\n",
       "      <td>1330</td>\n",
       "      <td>TAMBIRAPARANI AT ARUMUGANERI, TAMILNADU</td>\n",
       "      <td>TAMILNADU</td>\n",
       "    </tr>\n",
       "    <tr>\n",
       "      <th>1896</th>\n",
       "      <td>1330</td>\n",
       "      <td>TAMBIRAPARANI AT ARUMUGANERI, TAMILNADU</td>\n",
       "      <td>TAMILNADU</td>\n",
       "    </tr>\n",
       "    <tr>\n",
       "      <th>1986</th>\n",
       "      <td>1330</td>\n",
       "      <td>TAMBIRAPARANI AT ARUMUGANERI, TAMILNADU</td>\n",
       "      <td>TAMILNADU</td>\n",
       "    </tr>\n",
       "  </tbody>\n",
       "</table>\n",
       "</div>"
      ],
      "text/plain": [
       "     STATION CODE                                LOCATIONS      STATE\n",
       "166          1330  TAMBIRAPARANI AT ARUMUGANERI, TAMILNADU  TAMILNADU\n",
       "424          1330  TAMBIRAPARANI AT ARUMUGANERI, TAMILNADU  TAMILNADU\n",
       "677          1330             TAMBIRAPARANI AT ARUMUGANERI  TAMILNADU\n",
       "1168         1330             TAMBIRAPARANI AT ARUMUGANERI  TAMILNADU\n",
       "1351         1330  TAMBIRAPARANI AT ARUMUGANERI, TAMILNADU  TAMILNADU\n",
       "1513         1330  TAMBIRAPARANI AT ARUMUGANERI, TAMILNADU  TAMILNADU\n",
       "1626         1330  TAMBIRAPARANI AT ARUMUGANERI, TAMILNADU  TAMILNADU\n",
       "1745         1330  TAMBIRAPARANI AT ARUMUGANERI, TAMILNADU  TAMILNADU\n",
       "1896         1330  TAMBIRAPARANI AT ARUMUGANERI, TAMILNADU  TAMILNADU\n",
       "1986         1330  TAMBIRAPARANI AT ARUMUGANERI, TAMILNADU  TAMILNADU"
      ]
     },
     "execution_count": 16,
     "metadata": {},
     "output_type": "execute_result"
    }
   ],
   "source": [
    "# Filling all state NAN values which have corresponding station code value\n",
    "def fill_state(df_cat):\n",
    "    station_code = df_cat[\"STATION CODE\"].unique()\n",
    "    for index in range(station_code.shape[0]):\n",
    "        if (station_code[index] != np.nan):\n",
    "            df_state = df_cat[\"STATE\"][df_cat[\"STATION CODE\"] == station_code[index]] \n",
    "            state_values = df_cat[\"STATE\"][df_cat[\"STATION CODE\"] == station_code[index]]\n",
    "            state = np.nan\n",
    "            for index_state in range(state_values.shape[0]):\n",
    "                if (state_values.iloc[index_state] != np.nan):\n",
    "                    state = state_values.iloc[index_state]\n",
    "                    break\n",
    "            df_state_fill = df_state.fillna(state) \n",
    "            df_cat[\"STATE\"][df_cat[\"STATION CODE\"] == station_code[index]] = df_state_fill\n",
    "    return\n",
    "fill_state(df_cat_copy)\n",
    "df_cat_copy[df_cat_copy[\"STATION CODE\"] == \"1330\"]"
   ]
  },
  {
   "cell_type": "code",
   "execution_count": 17,
   "metadata": {},
   "outputs": [],
   "source": [
    "df_cat_copy[\"STATE\"][1106] = \"KERALA\"\n",
    "df_cat_copy[\"STATE\"][1107] = \"KERALA\"\n",
    "df_cat_copy[\"STATE\"][1650] = \"CHANDIGARH\"\n",
    "df_cat_copy[\"STATE\"][1651] = \"CHANDIGARH\"\n",
    "df_cat_copy[\"STATE\"][1652] = \"CHANDIGARH\"\n",
    "df_cat_copy[\"STATE\"][1770] = \"CHANDIGARH\"\n",
    "df_cat_copy[\"STATE\"][1771] = \"CHANDIGARH\"\n",
    "df_cat_copy[\"STATE\"][1772] = \"CHANDIGARH\"\n",
    "df_cat_copy[\"STATE\"][1784] = \"DAMAN & DIU\"\n",
    "df_cat_copy[\"STATE\"][1785] = \"DAMAN & DIU\"\n",
    "df_cat_copy[\"STATION CODE\"][1784] = \"0000\" # I am setting this according to myself\n",
    "df_cat_copy[\"STATION CODE\"][1785] = \"0000\""
   ]
  },
  {
   "cell_type": "code",
   "execution_count": 18,
   "metadata": {},
   "outputs": [
    {
     "data": {
      "text/plain": [
       "STATION CODE    3\n",
       "LOCATIONS       3\n",
       "STATE           3\n",
       "dtype: int64"
      ]
     },
     "execution_count": 18,
     "metadata": {},
     "output_type": "execute_result"
    }
   ],
   "source": [
    "df_cat = df_cat_copy\n",
    "df_cat.isnull().sum()"
   ]
  },
  {
   "cell_type": "code",
   "execution_count": 19,
   "metadata": {
    "scrolled": true
   },
   "outputs": [
    {
     "data": {
      "text/plain": [
       "STATION CODE                        3\n",
       "LOCATIONS                           3\n",
       "STATE                               3\n",
       "Temp                                0\n",
       "D.O. (mg/l)                         0\n",
       "PH                                  0\n",
       "CONDUCTIVITY (µmhos/cm)             0\n",
       "B.O.D. (mg/l)                       0\n",
       "NITRATENAN N+ NITRITENANN (mg/l)    0\n",
       "FECAL COLIFORM (MPN/100ml)          0\n",
       "TOTAL COLIFORM (MPN/100ml)Mean      0\n",
       "year                                0\n",
       "dtype: int64"
      ]
     },
     "execution_count": 19,
     "metadata": {},
     "output_type": "execute_result"
    }
   ],
   "source": [
    "df_final = pd.concat([df_cat, new_num_df], axis=1)\n",
    "df_final.isnull().sum()"
   ]
  },
  {
   "cell_type": "code",
   "execution_count": 20,
   "metadata": {},
   "outputs": [],
   "source": [
    "df_null = df_final[(df_final[\"STATION CODE\"].isnull()) & (df_final[\"LOCATIONS\"].isnull()) & (df_final[\"STATE\"].isnull())]\n",
    "df_null_indices = df_null.index\n",
    "df_final.drop(df_null_indices, axis=0, inplace=True)"
   ]
  },
  {
   "cell_type": "code",
   "execution_count": 21,
   "metadata": {
    "scrolled": true
   },
   "outputs": [
    {
     "data": {
      "text/plain": [
       "STATION CODE                        0\n",
       "LOCATIONS                           0\n",
       "STATE                               0\n",
       "Temp                                0\n",
       "D.O. (mg/l)                         0\n",
       "PH                                  0\n",
       "CONDUCTIVITY (µmhos/cm)             0\n",
       "B.O.D. (mg/l)                       0\n",
       "NITRATENAN N+ NITRITENANN (mg/l)    0\n",
       "FECAL COLIFORM (MPN/100ml)          0\n",
       "TOTAL COLIFORM (MPN/100ml)Mean      0\n",
       "year                                0\n",
       "dtype: int64"
      ]
     },
     "execution_count": 21,
     "metadata": {},
     "output_type": "execute_result"
    }
   ],
   "source": [
    "df_final.isnull().sum()"
   ]
  },
  {
   "cell_type": "code",
   "execution_count": 22,
   "metadata": {},
   "outputs": [],
   "source": [
    "df_final_num=df_final.select_dtypes(exclude=\"object\")\n",
    "df_final_cat=df_final.select_dtypes(include=\"object\")\n"
   ]
  },
  {
   "cell_type": "code",
   "execution_count": 23,
   "metadata": {},
   "outputs": [],
   "source": [
    "df_num_final_norm = zscore(df_final_num, axis=0)\n",
    "abs_z_scores = np.abs(df_num_final_norm)\n",
    "filtered_entries = (abs_z_scores < 3).all(axis=1)\n",
    "new_num_df_2 = df_final_num[filtered_entries]"
   ]
  },
  {
   "cell_type": "code",
   "execution_count": 24,
   "metadata": {},
   "outputs": [
    {
     "data": {
      "text/plain": [
       "(1815, 9)"
      ]
     },
     "execution_count": 24,
     "metadata": {},
     "output_type": "execute_result"
    }
   ],
   "source": [
    "new_num_df_2.shape"
   ]
  },
  {
   "cell_type": "code",
   "execution_count": 25,
   "metadata": {},
   "outputs": [],
   "source": [
    "df_final_final = pd.concat([df_final_cat, new_num_df_2], axis=1)"
   ]
  },
  {
   "cell_type": "code",
   "execution_count": 31,
   "metadata": {},
   "outputs": [],
   "source": [
    "df_final_final=df_final_final.dropna()"
   ]
  },
  {
   "cell_type": "code",
   "execution_count": 32,
   "metadata": {},
   "outputs": [
    {
     "data": {
      "text/plain": [
       "STATION CODE                        0\n",
       "LOCATIONS                           0\n",
       "STATE                               0\n",
       "Temp                                0\n",
       "D.O. (mg/l)                         0\n",
       "PH                                  0\n",
       "CONDUCTIVITY (µmhos/cm)             0\n",
       "B.O.D. (mg/l)                       0\n",
       "NITRATENAN N+ NITRITENANN (mg/l)    0\n",
       "FECAL COLIFORM (MPN/100ml)          0\n",
       "TOTAL COLIFORM (MPN/100ml)Mean      0\n",
       "year                                0\n",
       "dtype: int64"
      ]
     },
     "execution_count": 32,
     "metadata": {},
     "output_type": "execute_result"
    }
   ],
   "source": [
    "df_final_final.isnull().sum()"
   ]
  },
  {
   "cell_type": "code",
   "execution_count": 33,
   "metadata": {},
   "outputs": [
    {
     "data": {
      "text/plain": [
       "(1815, 12)"
      ]
     },
     "execution_count": 33,
     "metadata": {},
     "output_type": "execute_result"
    }
   ],
   "source": [
    "df_final_final.shape"
   ]
  },
  {
   "cell_type": "code",
   "execution_count": 34,
   "metadata": {},
   "outputs": [],
   "source": [
    "df_final_final.to_csv('waterQ1.csv', index=False)"
   ]
  },
  {
   "cell_type": "code",
   "execution_count": 35,
   "metadata": {},
   "outputs": [],
   "source": [
    "df2= pd.read_csv(\"waterQ1.csv\",encoding='unicode_escape')"
   ]
  },
  {
   "cell_type": "code",
   "execution_count": 37,
   "metadata": {},
   "outputs": [
    {
     "data": {
      "text/html": [
       "<div>\n",
       "<style scoped>\n",
       "    .dataframe tbody tr th:only-of-type {\n",
       "        vertical-align: middle;\n",
       "    }\n",
       "\n",
       "    .dataframe tbody tr th {\n",
       "        vertical-align: top;\n",
       "    }\n",
       "\n",
       "    .dataframe thead th {\n",
       "        text-align: right;\n",
       "    }\n",
       "</style>\n",
       "<table border=\"1\" class=\"dataframe\">\n",
       "  <thead>\n",
       "    <tr style=\"text-align: right;\">\n",
       "      <th></th>\n",
       "      <th>STATION CODE</th>\n",
       "      <th>LOCATIONS</th>\n",
       "      <th>STATE</th>\n",
       "      <th>Temp</th>\n",
       "      <th>D.O. (mg/l)</th>\n",
       "      <th>PH</th>\n",
       "      <th>CONDUCTIVITY (Âµmhos/cm)</th>\n",
       "      <th>B.O.D. (mg/l)</th>\n",
       "      <th>NITRATENAN N+ NITRITENANN (mg/l)</th>\n",
       "      <th>FECAL COLIFORM (MPN/100ml)</th>\n",
       "      <th>TOTAL COLIFORM (MPN/100ml)Mean</th>\n",
       "      <th>year</th>\n",
       "    </tr>\n",
       "  </thead>\n",
       "  <tbody>\n",
       "    <tr>\n",
       "      <th>0</th>\n",
       "      <td>1393</td>\n",
       "      <td>DAMANGANGA AT D/S OF MADHUBAN, DAMAN</td>\n",
       "      <td>DAMAN &amp; DIU</td>\n",
       "      <td>30.6</td>\n",
       "      <td>6.7</td>\n",
       "      <td>7.5</td>\n",
       "      <td>203.0</td>\n",
       "      <td>1.8965</td>\n",
       "      <td>0.1</td>\n",
       "      <td>11.0</td>\n",
       "      <td>27.0</td>\n",
       "      <td>2014.0</td>\n",
       "    </tr>\n",
       "    <tr>\n",
       "      <th>1</th>\n",
       "      <td>1399</td>\n",
       "      <td>ZUARI AT D/S OF PT. WHERE KUMBARJRIA CANAL JOI...</td>\n",
       "      <td>GOA</td>\n",
       "      <td>29.8</td>\n",
       "      <td>5.7</td>\n",
       "      <td>7.2</td>\n",
       "      <td>189.0</td>\n",
       "      <td>2.0000</td>\n",
       "      <td>0.2</td>\n",
       "      <td>4953.0</td>\n",
       "      <td>8391.0</td>\n",
       "      <td>2014.0</td>\n",
       "    </tr>\n",
       "    <tr>\n",
       "      <th>2</th>\n",
       "      <td>1475</td>\n",
       "      <td>ZUARI AT PANCHAWADI</td>\n",
       "      <td>GOA</td>\n",
       "      <td>29.5</td>\n",
       "      <td>6.3</td>\n",
       "      <td>6.9</td>\n",
       "      <td>179.0</td>\n",
       "      <td>1.7000</td>\n",
       "      <td>0.1</td>\n",
       "      <td>3243.0</td>\n",
       "      <td>5330.0</td>\n",
       "      <td>2014.0</td>\n",
       "    </tr>\n",
       "    <tr>\n",
       "      <th>3</th>\n",
       "      <td>3181</td>\n",
       "      <td>RIVER ZUARI AT BORIM BRIDGE</td>\n",
       "      <td>GOA</td>\n",
       "      <td>29.7</td>\n",
       "      <td>5.8</td>\n",
       "      <td>6.9</td>\n",
       "      <td>64.0</td>\n",
       "      <td>3.8000</td>\n",
       "      <td>0.5</td>\n",
       "      <td>5382.0</td>\n",
       "      <td>8443.0</td>\n",
       "      <td>2014.0</td>\n",
       "    </tr>\n",
       "    <tr>\n",
       "      <th>4</th>\n",
       "      <td>3182</td>\n",
       "      <td>RIVER ZUARI AT MARCAIM JETTY</td>\n",
       "      <td>GOA</td>\n",
       "      <td>29.5</td>\n",
       "      <td>5.8</td>\n",
       "      <td>7.3</td>\n",
       "      <td>83.0</td>\n",
       "      <td>1.9000</td>\n",
       "      <td>0.4</td>\n",
       "      <td>3428.0</td>\n",
       "      <td>5500.0</td>\n",
       "      <td>2014.0</td>\n",
       "    </tr>\n",
       "  </tbody>\n",
       "</table>\n",
       "</div>"
      ],
      "text/plain": [
       "   STATION CODE                                          LOCATIONS  \\\n",
       "0          1393               DAMANGANGA AT D/S OF MADHUBAN, DAMAN   \n",
       "1          1399  ZUARI AT D/S OF PT. WHERE KUMBARJRIA CANAL JOI...   \n",
       "2          1475                                ZUARI AT PANCHAWADI   \n",
       "3          3181                        RIVER ZUARI AT BORIM BRIDGE   \n",
       "4          3182                       RIVER ZUARI AT MARCAIM JETTY   \n",
       "\n",
       "         STATE  Temp  D.O. (mg/l)   PH  CONDUCTIVITY (Âµmhos/cm)  \\\n",
       "0  DAMAN & DIU  30.6          6.7  7.5                     203.0   \n",
       "1          GOA  29.8          5.7  7.2                     189.0   \n",
       "2          GOA  29.5          6.3  6.9                     179.0   \n",
       "3          GOA  29.7          5.8  6.9                      64.0   \n",
       "4          GOA  29.5          5.8  7.3                      83.0   \n",
       "\n",
       "   B.O.D. (mg/l)  NITRATENAN N+ NITRITENANN (mg/l)  \\\n",
       "0         1.8965                               0.1   \n",
       "1         2.0000                               0.2   \n",
       "2         1.7000                               0.1   \n",
       "3         3.8000                               0.5   \n",
       "4         1.9000                               0.4   \n",
       "\n",
       "   FECAL COLIFORM (MPN/100ml)  TOTAL COLIFORM (MPN/100ml)Mean    year  \n",
       "0                        11.0                            27.0  2014.0  \n",
       "1                      4953.0                          8391.0  2014.0  \n",
       "2                      3243.0                          5330.0  2014.0  \n",
       "3                      5382.0                          8443.0  2014.0  \n",
       "4                      3428.0                          5500.0  2014.0  "
      ]
     },
     "execution_count": 37,
     "metadata": {},
     "output_type": "execute_result"
    }
   ],
   "source": [
    "df2.head()"
   ]
  },
  {
   "cell_type": "code",
   "execution_count": null,
   "metadata": {},
   "outputs": [],
   "source": []
  }
 ],
 "metadata": {
  "kernelspec": {
   "display_name": "Python 3",
   "language": "python",
   "name": "python3"
  },
  "language_info": {
   "codemirror_mode": {
    "name": "ipython",
    "version": 3
   },
   "file_extension": ".py",
   "mimetype": "text/x-python",
   "name": "python",
   "nbconvert_exporter": "python",
   "pygments_lexer": "ipython3",
   "version": "3.7.4"
  }
 },
 "nbformat": 4,
 "nbformat_minor": 2
}
