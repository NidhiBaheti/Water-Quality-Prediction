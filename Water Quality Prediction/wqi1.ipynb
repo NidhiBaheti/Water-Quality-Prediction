{
 "cells": [
  {
   "cell_type": "code",
   "execution_count": 1,
   "metadata": {},
   "outputs": [
    {
     "name": "stderr",
     "output_type": "stream",
     "text": [
      "D:\\anaconda\\lib\\site-packages\\statsmodels\\tools\\_testing.py:19: FutureWarning: pandas.util.testing is deprecated. Use the functions in the public API at pandas.testing instead.\n",
      "  import pandas.util.testing as tm\n"
     ]
    }
   ],
   "source": [
    "import numpy as np\n",
    "import pandas as pd\n",
    "import seaborn as sns\n",
    "import matplotlib.pyplot as plt\n",
    "from sklearn.impute import SimpleImputer\n",
    "from sklearn.neighbors import LocalOutlierFactor\n",
    "from scipy.stats import probplot\n",
    "from scipy.stats import zscore"
   ]
  },
  {
   "cell_type": "code",
   "execution_count": 3,
   "metadata": {},
   "outputs": [],
   "source": [
    "df= pd.read_csv(\"waterQ1.csv\",encoding='unicode_escape')"
   ]
  },
  {
   "cell_type": "code",
   "execution_count": 4,
   "metadata": {},
   "outputs": [
    {
     "name": "stderr",
     "output_type": "stream",
     "text": [
      "C:\\Users\\Nidhi\\AppData\\Roaming\\Python\\Python37\\site-packages\\pandas\\core\\frame.py:3997: SettingWithCopyWarning: \n",
      "A value is trying to be set on a copy of a slice from a DataFrame\n",
      "\n",
      "See the caveats in the documentation: https://pandas.pydata.org/pandas-docs/stable/user_guide/indexing.html#returning-a-view-versus-a-copy\n",
      "  errors=errors,\n"
     ]
    }
   ],
   "source": [
    "# Calculating Water Quality Index of each sample\n",
    "df_num_final = df.select_dtypes(exclude=\"object\")\n",
    "# Dropping year and Temp attribute because they are not used for computing WQI\n",
    "df_num_final.drop([\"year\", \"Temp\"], axis=1, inplace=True)\n",
    "\n",
    "# Weight Vector(wi)\n",
    "wi = np.array([0.2213, 0.2604, 0.0022, 0.4426, 0.0492, 0.0221, 0.0022])\n",
    "\n",
    "# Standard values of parameters(si)\n",
    "si = np.array([10, 8.5, 1000, 5, 45, 100, 1000])\n",
    "\n",
    "# Ideal values of paramters(vIdeal)\n",
    "vIdeal = np.array([14.6, 7, 0, 0, 0, 0, 0])\n",
    "\n",
    "def calc_wqi(sample):\n",
    "    wqi_sample = 0\n",
    "    num_col = 7\n",
    "    for index in range(num_col):\n",
    "        v_index = sample[index] # Obeserved value of sample at index\n",
    "        v_index_ideal = vIdeal[index] # Ideal value of obeserved value\n",
    "        w_index = wi[index] # weight of corresponding parameter of obeserved value\n",
    "        std_index = si[index] # Standard value recommended for obeserved value\n",
    "        q_index = (v_index - v_index_ideal) / (std_index - v_index_ideal)\n",
    "        q_index = q_index * 100 # Final qi value of obeserved value\n",
    "        wqi_sample += q_index*w_index\n",
    "    return wqi_sample"
   ]
  },
  {
   "cell_type": "code",
   "execution_count": 5,
   "metadata": {},
   "outputs": [],
   "source": [
    "# Computing WQI for the whole dataset\n",
    "def calc_wqi_for_df(df):\n",
    "    wqi_arr = []\n",
    "    for index in range(df.shape[0]):\n",
    "        index_row = df.iloc[index, :]\n",
    "        wqi_row = calc_wqi(index_row)\n",
    "        wqi_arr.append(wqi_row)\n",
    "    return wqi_arr"
   ]
  },
  {
   "cell_type": "code",
   "execution_count": 6,
   "metadata": {},
   "outputs": [],
   "source": [
    "wqi_arr = calc_wqi_for_df(df_num_final)\n",
    "# Converting oridnary array to numpy array\n",
    "wqi_arr = np.array(wqi_arr)\n",
    "wqi_arr = np.reshape(wqi_arr, (-1, 1))\n",
    "\n",
    "# Resetting index values of the dataframes\n",
    "wqi_arr_df = pd.DataFrame(wqi_arr, columns=[\"WQI\"]).reset_index()\n",
    "df = df.reset_index()"
   ]
  },
  {
   "cell_type": "code",
   "execution_count": 7,
   "metadata": {},
   "outputs": [
    {
     "data": {
      "text/plain": [
       "(1815, 13)"
      ]
     },
     "execution_count": 7,
     "metadata": {},
     "output_type": "execute_result"
    }
   ],
   "source": [
    "df_wqi = pd.concat([df, pd.DataFrame(wqi_arr, columns=[\"WQI\"])], axis=1)\n",
    "df_wqi.drop(\"index\", axis=1, inplace=True)\n",
    "df_wqi.shape"
   ]
  },
  {
   "cell_type": "code",
   "execution_count": 8,
   "metadata": {},
   "outputs": [],
   "source": [
    "# Removing the samples with negative WQI\n",
    "df_neg_indices = df_wqi[(df_wqi[\"WQI\"] < 0)].index\n",
    "df_wqi.drop(df_neg_indices, axis=0, inplace=True)"
   ]
  },
  {
   "cell_type": "code",
   "execution_count": 9,
   "metadata": {},
   "outputs": [],
   "source": [
    "df_wqi[\"WQI clf\"] = df_wqi[\"WQI\"].apply(lambda x: (\"Good Quality\" if (x <= 50)  \n",
    "                                        else(\"Poor Quality\" if (51<=x<=75) \n",
    "                                        else \"Unsuitable\"))))"
   ]
  },
  {
   "cell_type": "code",
   "execution_count": 10,
   "metadata": {},
   "outputs": [
    {
     "data": {
      "text/html": [
       "<div>\n",
       "<style scoped>\n",
       "    .dataframe tbody tr th:only-of-type {\n",
       "        vertical-align: middle;\n",
       "    }\n",
       "\n",
       "    .dataframe tbody tr th {\n",
       "        vertical-align: top;\n",
       "    }\n",
       "\n",
       "    .dataframe thead th {\n",
       "        text-align: right;\n",
       "    }\n",
       "</style>\n",
       "<table border=\"1\" class=\"dataframe\">\n",
       "  <thead>\n",
       "    <tr style=\"text-align: right;\">\n",
       "      <th></th>\n",
       "      <th>STATION CODE</th>\n",
       "      <th>LOCATIONS</th>\n",
       "      <th>STATE</th>\n",
       "      <th>Temp</th>\n",
       "      <th>D.O. (mg/l)</th>\n",
       "      <th>PH</th>\n",
       "      <th>CONDUCTIVITY (Âµmhos/cm)</th>\n",
       "      <th>B.O.D. (mg/l)</th>\n",
       "      <th>NITRATENAN N+ NITRITENANN (mg/l)</th>\n",
       "      <th>FECAL COLIFORM (MPN/100ml)</th>\n",
       "      <th>TOTAL COLIFORM (MPN/100ml)Mean</th>\n",
       "      <th>year</th>\n",
       "      <th>WQI</th>\n",
       "      <th>WQI clf</th>\n",
       "    </tr>\n",
       "  </thead>\n",
       "  <tbody>\n",
       "    <tr>\n",
       "      <th>1659</th>\n",
       "      <td>43</td>\n",
       "      <td>MUVATTAPUZHA AT VETTIKKATTUMUKKU, KERALA</td>\n",
       "      <td>KERALA</td>\n",
       "      <td>27.0</td>\n",
       "      <td>7.2</td>\n",
       "      <td>6.76</td>\n",
       "      <td>59.8</td>\n",
       "      <td>1.692</td>\n",
       "      <td>0.449</td>\n",
       "      <td>127.000</td>\n",
       "      <td>357.0</td>\n",
       "      <td>2005.0</td>\n",
       "      <td>396.417246</td>\n",
       "      <td>0</td>\n",
       "    </tr>\n",
       "    <tr>\n",
       "      <th>1681</th>\n",
       "      <td>1092</td>\n",
       "      <td>KALU AT ATALE VILLAGE, MAHARASHTRA</td>\n",
       "      <td>MAHARASHTRA</td>\n",
       "      <td>27.0</td>\n",
       "      <td>5.1</td>\n",
       "      <td>7.45</td>\n",
       "      <td>5168.8</td>\n",
       "      <td>9.875</td>\n",
       "      <td>1.810</td>\n",
       "      <td>7.000</td>\n",
       "      <td>210.0</td>\n",
       "      <td>2005.0</td>\n",
       "      <td>40539.125577</td>\n",
       "      <td>0</td>\n",
       "    </tr>\n",
       "    <tr>\n",
       "      <th>1755</th>\n",
       "      <td>17</td>\n",
       "      <td>PERIYAR AT ALWAYE, KERALA</td>\n",
       "      <td>KERALA</td>\n",
       "      <td>28.0</td>\n",
       "      <td>6.4</td>\n",
       "      <td>1579.00</td>\n",
       "      <td>5.8</td>\n",
       "      <td>1.700</td>\n",
       "      <td>0.513</td>\n",
       "      <td>0.513</td>\n",
       "      <td>959.0</td>\n",
       "      <td>2003.0</td>\n",
       "      <td>29.924210</td>\n",
       "      <td>2</td>\n",
       "    </tr>\n",
       "    <tr>\n",
       "      <th>1756</th>\n",
       "      <td>18</td>\n",
       "      <td>PERIYAR AT KALADY, KERALA</td>\n",
       "      <td>KERALA</td>\n",
       "      <td>27.0</td>\n",
       "      <td>6.8</td>\n",
       "      <td>62.00</td>\n",
       "      <td>7.5</td>\n",
       "      <td>1.500</td>\n",
       "      <td>0.221</td>\n",
       "      <td>0.221</td>\n",
       "      <td>892.0</td>\n",
       "      <td>2003.0</td>\n",
       "      <td>46.743616</td>\n",
       "      <td>2</td>\n",
       "    </tr>\n",
       "    <tr>\n",
       "      <th>1758</th>\n",
       "      <td>20</td>\n",
       "      <td>CHALIYAR AT KOOLIMADU, KERALA</td>\n",
       "      <td>KERALA</td>\n",
       "      <td>28.0</td>\n",
       "      <td>6.9</td>\n",
       "      <td>62.00</td>\n",
       "      <td>6.8</td>\n",
       "      <td>0.400</td>\n",
       "      <td>0.210</td>\n",
       "      <td>0.210</td>\n",
       "      <td>802.0</td>\n",
       "      <td>2003.0</td>\n",
       "      <td>32.540965</td>\n",
       "      <td>2</td>\n",
       "    </tr>\n",
       "  </tbody>\n",
       "</table>\n",
       "</div>"
      ],
      "text/plain": [
       "      STATION CODE                                 LOCATIONS        STATE  \\\n",
       "1659            43  MUVATTAPUZHA AT VETTIKKATTUMUKKU, KERALA       KERALA   \n",
       "1681          1092        KALU AT ATALE VILLAGE, MAHARASHTRA  MAHARASHTRA   \n",
       "1755            17                 PERIYAR AT ALWAYE, KERALA       KERALA   \n",
       "1756            18                 PERIYAR AT KALADY, KERALA       KERALA   \n",
       "1758            20             CHALIYAR AT KOOLIMADU, KERALA       KERALA   \n",
       "\n",
       "      Temp  D.O. (mg/l)       PH  CONDUCTIVITY (Âµmhos/cm)  B.O.D. (mg/l)  \\\n",
       "1659  27.0          7.2     6.76                      59.8          1.692   \n",
       "1681  27.0          5.1     7.45                    5168.8          9.875   \n",
       "1755  28.0          6.4  1579.00                       5.8          1.700   \n",
       "1756  27.0          6.8    62.00                       7.5          1.500   \n",
       "1758  28.0          6.9    62.00                       6.8          0.400   \n",
       "\n",
       "      NITRATENAN N+ NITRITENANN (mg/l)  FECAL COLIFORM (MPN/100ml)  \\\n",
       "1659                             0.449                     127.000   \n",
       "1681                             1.810                       7.000   \n",
       "1755                             0.513                       0.513   \n",
       "1756                             0.221                       0.221   \n",
       "1758                             0.210                       0.210   \n",
       "\n",
       "      TOTAL COLIFORM (MPN/100ml)Mean    year           WQI  WQI clf  \n",
       "1659                           357.0  2005.0    396.417246        0  \n",
       "1681                           210.0  2005.0  40539.125577        0  \n",
       "1755                           959.0  2003.0     29.924210        2  \n",
       "1756                           892.0  2003.0     46.743616        2  \n",
       "1758                           802.0  2003.0     32.540965        2  "
      ]
     },
     "execution_count": 10,
     "metadata": {},
     "output_type": "execute_result"
    }
   ],
   "source": [
    "df_wqi.tail()"
   ]
  },
  {
   "cell_type": "code",
   "execution_count": 11,
   "metadata": {},
   "outputs": [],
   "source": [
    "df_wqi.to_csv('waterQ1(withWQI).csv', index=False)"
   ]
  },
  {
   "cell_type": "code",
   "execution_count": 12,
   "metadata": {},
   "outputs": [],
   "source": [
    "df2= pd.read_csv(\"waterQ1(withWQI).csv\",encoding='unicode_escape')"
   ]
  },
  {
   "cell_type": "code",
   "execution_count": null,
   "metadata": {},
   "outputs": [],
   "source": []
  },
  {
   "cell_type": "code",
   "execution_count": null,
   "metadata": {},
   "outputs": [],
   "source": []
  }
 ],
 "metadata": {
  "kernelspec": {
   "display_name": "Python 3",
   "language": "python",
   "name": "python3"
  },
  "language_info": {
   "codemirror_mode": {
    "name": "ipython",
    "version": 3
   },
   "file_extension": ".py",
   "mimetype": "text/x-python",
   "name": "python",
   "nbconvert_exporter": "python",
   "pygments_lexer": "ipython3",
   "version": "3.7.4"
  }
 },
 "nbformat": 4,
 "nbformat_minor": 2
}
